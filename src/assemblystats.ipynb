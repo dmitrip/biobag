{
 "cells": [
  {
   "cell_type": "code",
   "execution_count": null,
   "metadata": {},
   "outputs": [],
   "source": [
    "#!/usr/bin/python"
   ]
  },
  {
   "cell_type": "code",
   "execution_count": null,
   "metadata": {},
   "outputs": [],
   "source": [
    "import sys\n",
    "import numpy as np\n",
    "import argparse"
   ]
  },
  {
   "cell_type": "code",
   "execution_count": null,
   "metadata": {},
   "outputs": [],
   "source": [
    "def assemblystats(lines, xmax=10000, step=100):\n",
    "    \"\"\"Returns statistics about a fasta file from an assembly.\"\"\"\n",
    "    \n",
    "    lengthcounts = list()\n",
    "    \n",
    "    for line in lines:\n",
    "        try:\n",
    "            count, length = line.split()\n",
    "            count, length = int(count), int(length)\n",
    "            \n",
    "        except ValueError:\n",
    "            message = 'Cant parse line as \"int, int\": ' + line\n",
    "            raise ValueError(message) from None\n",
    "\n",
    "        lengthcounts.append((length, count))\n",
    "\n",
    "    lengthcounts.sort(reverse=True)\n",
    "    \n",
    "    sizes = np.zeros((xmax//step + 1), dtype=np.int)\n",
    "    \n",
    "    assemblysize = sum(length * count for length, count in lengthcounts)\n",
    "    ncontigs = sum(count for length, count in lengthcounts)\n",
    "    largestcontig = lengthcounts[0][0]\n",
    "    smallestcontig = lengthcounts[-1][0]\n",
    "    mediancontig = lengthcounts[len(lengthcounts) // 2][0]\n",
    "    N50 = None\n",
    "    \n",
    "    # Length distribution\n",
    "    for length, count in lengthcounts:\n",
    "        sizes[:(length // step) + 1] += length * count\n",
    "        \n",
    "        if N50 is None and sizes[0] >= assemblysize / 2:\n",
    "            N50 = length\n",
    "            \n",
    "    return assemblysize, N50, ncontigs, largestcontig, smallestcontig, mediancontig, sizes"
   ]
  },
  {
   "cell_type": "code",
   "execution_count": 3,
   "metadata": {},
   "outputs": [
    {
     "ename": "NameError",
     "evalue": "name 'argparse' is not defined",
     "output_type": "error",
     "traceback": [
      "\u001b[0;31m---------------------------------------------------------------------------\u001b[0m",
      "\u001b[0;31mNameError\u001b[0m                                 Traceback (most recent call last)",
      "\u001b[0;32m<ipython-input-3-aeda8b55bcb2>\u001b[0m in \u001b[0;36m<module>\u001b[0;34m()\u001b[0m\n\u001b[1;32m      5\u001b[0m \u001b[0;34m\u001b[0m\u001b[0m\n\u001b[1;32m      6\u001b[0m     \u001b[0;31m# Parse input\u001b[0m\u001b[0;34m\u001b[0m\u001b[0;34m\u001b[0m\u001b[0m\n\u001b[0;32m----> 7\u001b[0;31m     parser = argparse.ArgumentParser(\n\u001b[0m\u001b[1;32m      8\u001b[0m         \u001b[0mdescription\u001b[0m\u001b[0;34m=\u001b[0m\u001b[0m__doc__\u001b[0m\u001b[0;34m,\u001b[0m\u001b[0;34m\u001b[0m\u001b[0m\n\u001b[1;32m      9\u001b[0m         \u001b[0mformatter_class\u001b[0m\u001b[0;34m=\u001b[0m\u001b[0margparse\u001b[0m\u001b[0;34m.\u001b[0m\u001b[0mRawDescriptionHelpFormatter\u001b[0m\u001b[0;34m,\u001b[0m\u001b[0;34m\u001b[0m\u001b[0m\n",
      "\u001b[0;31mNameError\u001b[0m: name 'argparse' is not defined"
     ]
    }
   ],
   "source": [
    "if __name__ == '__main__':\n",
    "    usage = \"\"\"SPADES assembly: grep \">^\" contigs.fna | cut -d _ -f 5 | sort -nr | uniq -c | assembly.py -m MAX -s STEP\n",
    "       MEGAHIT assembly: grep \">^\" contigs.fna | cut -d = -f 4 | sort -nr | uniq -c | assembly.py -m MAX -s STEP\n",
    "    \"\"\"\n",
    "    \n",
    "    # Parse input\n",
    "    parser = argparse.ArgumentParser(\n",
    "        description=__doc__,\n",
    "        formatter_class=argparse.RawDescriptionHelpFormatter,\n",
    "        usage=usage)\n",
    "    \n",
    "    # Required, positional arguments\n",
    "    parser.add_argument('-m', type=int, default=10000, help='max contig size', \n",
    "                        dest='maxsize', metavar='maxsize')\n",
    "    parser.add_argument('-s', type=int, default=100, help='contig step size',\n",
    "                        dest='step', metavar='step')\n",
    "    \n",
    "    lines = list()\n",
    "    for nline, line in enumerate(sys.stdin):\n",
    "        if nline == 100000:\n",
    "            raise ValueError('More than 100k lines, wrong input, exiting.')\n",
    "        lines.append(line)\n",
    "    \n",
    "    if len(lines) == 0:\n",
    "        parser.print_help()\n",
    "        sys.exit()\n",
    "        \n",
    "    args = parser.parse_args()\n",
    "    \n",
    "    if args.step > args.maxsize:\n",
    "        raise ValueError('Step must be less than maxsize')\n",
    "        \n",
    "    if args.step < 1 or args.maxsize < 1:\n",
    "        raise ValueError('Step and maxsize must be positive integers')\n",
    "        \n",
    "    (assemblysize, N50, ncontigs, largestcontig, smallestcontig, mediancontig,\n",
    "    sizes) = assemblystats(lines, args.maxsize, args.step)\n",
    "    \n",
    "    print('Size:', assemblysize, sep='\\t')\n",
    "    print('N50:', N50, sep='\\t')\n",
    "    print('Number of contigs:', ncontigs, sep='\\t')\n",
    "    print('Smallest contig:', smallestcontig, sep='\\t')\n",
    "    print('Largest contig:', largestcontig, sep='\\t')\n",
    "    print('Median contig:', mediancontig, sep='\\t', end='\\n\\n')\n",
    "    \n",
    "    for i, length in enumerate(range(0, args.maxsize + args.step, args.step)):\n",
    "        print(length, sizes[i], sep='\\t')"
   ]
  }
 ],
 "metadata": {
  "kernelspec": {
   "display_name": "Python 3",
   "language": "python",
   "name": "python3"
  },
  "language_info": {
   "codemirror_mode": {
    "name": "ipython",
    "version": 3
   },
   "file_extension": ".py",
   "mimetype": "text/x-python",
   "name": "python",
   "nbconvert_exporter": "python",
   "pygments_lexer": "ipython3",
   "version": "3.6.4"
  }
 },
 "nbformat": 4,
 "nbformat_minor": 2
}
