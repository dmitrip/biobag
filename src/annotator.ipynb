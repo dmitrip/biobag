{
 "cells": [
  {
   "cell_type": "code",
   "execution_count": 1,
   "metadata": {},
   "outputs": [
    {
     "data": {
      "text/plain": [
       "'Takes a protein query file and a \"bin table\" file and diamondblasts the query\\nagainst swissprot, then summarizes which species each cluster hit. You can get\\nthe two input files from the scripts parsebins.py or parsecanopy.py\\n\\nIs based on a crude approach to be refined later.\\n'"
      ]
     },
     "execution_count": 1,
     "metadata": {},
     "output_type": "execute_result"
    }
   ],
   "source": [
    "\"\"\"Takes a protein query file and a \"bin table\" file and diamondblasts the query\n",
    "against swissprot, then summarizes which species each cluster hit. You can get\n",
    "the two input files from the scripts parsebins.py or parsecanopy.py\n",
    "\n",
    "Is based on a crude approach to be refined later.\n",
    "\"\"\""
   ]
  },
  {
   "cell_type": "code",
   "execution_count": 2,
   "metadata": {
    "collapsed": true
   },
   "outputs": [],
   "source": [
    "__author__ = 'Jakob Nybo Nissen, DTU Bioinformatics'"
   ]
  },
  {
   "cell_type": "code",
   "execution_count": 3,
   "metadata": {
    "collapsed": true
   },
   "outputs": [],
   "source": [
    "import os\n",
    "import sys\n",
    "import subprocess\n",
    "import argparse\n",
    "from math import pi, exp, sqrt\n",
    "from collections import Counter, defaultdict\n",
    "from itertools import zip_longest\n",
    "from time import time"
   ]
  },
  {
   "cell_type": "code",
   "execution_count": 4,
   "metadata": {
    "collapsed": true
   },
   "outputs": [],
   "source": [
    "nanvalues = ('environmental samples', 'unclassified sequences', 'unclassified phages')\n",
    "taxranks = ['Domain', 'Phylum', 'Class', 'Order', 'Family', 'Genus', 'Species']"
   ]
  },
  {
   "cell_type": "code",
   "execution_count": 5,
   "metadata": {
    "collapsed": true
   },
   "outputs": [],
   "source": [
    "def timed(function):\n",
    "    \"\"\"Decorator adding a timer to a function,\n",
    "    and prints the time elapsed in the terminal. Just eye candy.\"\"\"\n",
    "    \n",
    "    def inner(*args, **kwargs):\n",
    "        begin = time()\n",
    "        result = function(*args, **kwargs)\n",
    "        print('\\tDone in {:,.2f} seconds'.format(time() - begin))\n",
    "        return result\n",
    "    \n",
    "    return inner"
   ]
  },
  {
   "cell_type": "code",
   "execution_count": 6,
   "metadata": {
    "collapsed": true
   },
   "outputs": [],
   "source": [
    "@timed\n",
    "def diamond_blast(args):\n",
    "    \"Runs diamondblast.\"\n",
    "    \n",
    "    print('Diamondblasting with {} cores.'.format(args.cores))\n",
    "    outputfields = ('qseqid sseqid pident length mismatch gapopen qstart qend '\n",
    "                    'sstart send evalue bitscore stitle')\n",
    "    log = args.diamondout + '.log'\n",
    "    \n",
    "    command = '{} blastp -q {} -d {} -f 6 {} -o {} -k 1 -p {} > {}'\n",
    "    command = command.format(args.diamondpath, args.query, args.database,\n",
    "                            outputfields, args.diamondout, args.cores, log)\n",
    "    \n",
    "    subprocess.run(command, shell=True, check=True)\n",
    "    \n",
    "    return None"
   ]
  },
  {
   "cell_type": "code",
   "execution_count": 7,
   "metadata": {
    "collapsed": true
   },
   "outputs": [],
   "source": [
    "@timed\n",
    "def create_bindict(bintablepath):\n",
    "    \"\"\"Reads a canopy cluster file and creates the bindict\"\"\"\n",
    "    \n",
    "    print('Parsing clusters.')\n",
    "\n",
    "    bindict = defaultdict(list)\n",
    "    \n",
    "    with open(bintablepath) as file:\n",
    "        currentbin, gene = next(file).split()\n",
    "        currentbinbuffer = [(currentbin, gene)]\n",
    "        \n",
    "        # Iterate over all nonempty lines\n",
    "        for bin, gene in filter(None, map(str.split, file)):\n",
    "            if bin != currentbin:\n",
    "                for bufbin, bufgene in currentbinbuffer:\n",
    "                    bindict[bufbin].append(bufgene)\n",
    "                \n",
    "                currentbinbuffer.clear()\n",
    "                currentbin = bin\n",
    "            \n",
    "            currentbinbuffer.append((bin, gene))\n",
    "        \n",
    "        for bufbin, bufgene in currentbinbuffer:\n",
    "            bindict[bufbin].append(bufgene)\n",
    "\n",
    "    return bindict"
   ]
  },
  {
   "cell_type": "code",
   "execution_count": 8,
   "metadata": {
    "collapsed": true
   },
   "outputs": [],
   "source": [
    "def scorer(x, rank, tau=2*pi, exp=exp, sqrt=sqrt):\n",
    "    \"\"\"Converts amino acid identity < 1 to a score.\n",
    "    \n",
    "    It's the sum of three scores:\n",
    "    1) A constant base score for just getting the hit\n",
    "    2) A low-homology score, which contributes in the middle range (0.4-0.8)\n",
    "        Normal distribution with mean of 1 and std. deviation of sigma\n",
    "    3) A high-homology score which dominates for identities > 0.9\n",
    "        Sigmoid function with max x: f'(x) = 1 and f'(1) = homologyscaling\n",
    "        \n",
    "    It's calibrated so that scorer(x, 7) = sigmoidfunction(x), and\n",
    "    scorer(1, rank) = 1 for any rank\n",
    "    \"\"\"\n",
    "    \n",
    "    # A hit with 0% identity gets this score\n",
    "    base = max(0, 0.03 - 0.005 * rank)\n",
    "    \n",
    "    \n",
    "    # The slope of high-homology part at 100% identity\n",
    "    homologyscaling = 6 + rank\n",
    "    \n",
    "    # The relative contribution of high vs low homology at 100% identity\n",
    "    highlowfraction = min(1, 0.4 + 0.1 * rank)\n",
    "    \n",
    "    # This sets the relative spread of low homology\n",
    "    sigma = 0.3 - (0.03 * rank)\n",
    "    \n",
    "    # Calculate score\n",
    "    if base == 0 and highlowfraction == 1:\n",
    "        return 2 / (1 + exp(-4*homologyscaling * (x - 1)))\n",
    "    \n",
    "    sigmasquared = sigma * sigma\n",
    "    \n",
    "    highfraction = (1 - base) * highlowfraction\n",
    "    lowfraction = 1 - base - highfraction\n",
    "    \n",
    "    highhomology = 2 * highfraction / (1 + exp(-4*homologyscaling * (x - 1)))\n",
    "    \n",
    "    lowscale = lowfraction * sqrt(tau*sigmasquared)\n",
    "    lowhomology = (exp(-((x-2)*x+1) / (2*sigmasquared)) / sqrt(tau*sigmasquared)) * lowscale\n",
    "    \n",
    "    return lowhomology + highhomology + base"
   ]
  },
  {
   "cell_type": "code",
   "execution_count": 9,
   "metadata": {
    "collapsed": true
   },
   "outputs": [],
   "source": [
    "def naively_summarize_bin(taxidpairs, scorer=scorer, introspect=False, nanvalues=nanvalues):\n",
    "    \"\"\"Given a tuple of taxonomystring, score, returns a consensus taxonomy string\n",
    "    for those genes. Nanvalues, e.g. 'unknown sequence' are filtered out.\n",
    "    \n",
    "    Current rules:\n",
    "    1) The score is calculated by scorer, and depends on the taxonomic rank\n",
    "        (higher is more specific)\n",
    "    2) The score must >= 5\n",
    "    3) The score must be double that of the next-best in that rank\n",
    "    4) The score must be >= 0.4 times the sum of any assignment at that rank.\n",
    "    \n",
    "    As this function is called thousands of times, do not decorate it\n",
    "    with @timed\"\"\"\n",
    "    \n",
    "    consensus = list()\n",
    "    taxidpairs = [(t.split(';'), i) for t, i in taxidpairs]\n",
    "    taxidpairs = [(t, i) for t, i in taxidpairs if t[0] not in nanvalues]\n",
    "    \n",
    "    # Do not take consensus of too few genes.\n",
    "    if len(taxidpairs) < 10:\n",
    "        return 'None'\n",
    "    \n",
    "    # Get a score for each hit for each level\n",
    "    taxscorepairs = list()\n",
    "    for taxlist, id in taxidpairs:\n",
    "        taxscorepairs.append([(tax, scorer(id, rank)) for rank, tax in enumerate(taxlist)])\n",
    "    \n",
    "    # Get a global score for each rank (i.e. sum of all scores at that rank)\n",
    "    ranks = zip_longest(*taxscorepairs, fillvalue=(None, 0))\n",
    "    globalscores = [sum(score for tax, score in rank) for rank in ranks]\n",
    "\n",
    "    # Each rank corresponds to kingdom, phylum, subphylum, superclass, etc.\n",
    "    for rank, globalscore in enumerate(globalscores):\n",
    "        scores = Counter()\n",
    "        \n",
    "        for tsp in taxscorepairs:\n",
    "            tax, score = tsp[rank]\n",
    "            scores[tax] += score\n",
    "        \n",
    "        counter = Counter([tsp[rank][0] for tsp in taxscorepairs])\n",
    "        \n",
    "        for nanvalue in nanvalues:\n",
    "            scores.pop(nanvalue, None)\n",
    "            \n",
    "        mostcommons = scores.most_common()\n",
    "        \n",
    "        # If mostcommons is empty, i.e. only nanvalues in this rank\n",
    "        # stop and do not attempt for any lower rank.\n",
    "        if not mostcommons:\n",
    "            break\n",
    "        \n",
    "        maxtaxon, maxscore = mostcommons[0]\n",
    "        maxcount = counter[maxtaxon]\n",
    "        secondscore = 0 if len(mostcommons) == 1 else mostcommons[1][1]\n",
    "            \n",
    "        # Introspect if given the command\n",
    "        if introspect:\n",
    "            \n",
    "            \n",
    "            print('{} (rankwide score: {})'.format(taxranks[rank] if rank < 7 else \"subclass\", round(globalscore, 1)))\n",
    "            for row in range(min(3, len(mostcommons))):\n",
    "                taxon, score = mostcommons[row]\n",
    "                shortened = taxon[:16] + '...' if len(taxon) > 19 else taxon\n",
    "                print('\\t{:<20}{:<8}{}'.format(shortened, round(score, 2), counter[taxon]))\n",
    "            print('')\n",
    "            \n",
    "        # If a consensus can be found, add it to the output.\n",
    "        criteria = (maxscore >= 5,\n",
    "                    maxscore >= 1.8 * secondscore,\n",
    "                    maxscore >= 0.4 * globalscore,\n",
    "                    #maxscore / maxcount >= 0.25,\n",
    "                    )\n",
    "        \n",
    "        if all(criteria):\n",
    "            consensus.append(maxtaxon)\n",
    "            \n",
    "            # For next iteration, discard any taxonomies that was not part of\n",
    "            # the consensus, or where we have reached the end of the taxonomy.\n",
    "            taxscorepairs = [tsp for tsp in taxscorepairs\n",
    "                             if tsp[rank][0] == maxtaxon and len(tsp) >= rank+2]\n",
    "\n",
    "        # If no consensus found, do not attempt for any smaller clade\n",
    "        else:\n",
    "            if introspect:\n",
    "                reasons = ('Maxscore too low',\n",
    "                           'Second place too good',\n",
    "                           'Maxscore too small fraction of whole',\n",
    "                           'Average score too low')\n",
    "                reasons = ', '.join(r for r, c in zip(reasons, criteria) if not c)\n",
    "                print('Ended:', reasons + '.', end='\\n\\n')\n",
    "            break\n",
    "                          \n",
    "    if consensus:\n",
    "        return ';'.join(consensus)\n",
    "    \n",
    "    else:\n",
    "        return 'None'"
   ]
  },
  {
   "cell_type": "code",
   "execution_count": 10,
   "metadata": {
    "collapsed": true
   },
   "outputs": [],
   "source": [
    "@timed\n",
    "def naive_summary(bindict, diamondout, returntax=False):\n",
    "    \"\"\"Given the annotated blast output and a bindict as\n",
    "    returned by parse_clusters, creates summary of the bin.\"\"\"\n",
    "    \n",
    "    # Create dictionary of gene: taxonomy.\n",
    "    print('Summarizing bin taxonomy.')\n",
    "    print('\\tExtracting taxonomy...')\n",
    "    taxdict = dict()\n",
    "    with open(diamondout) as blastfile:\n",
    "        for line in blastfile:\n",
    "            if not line: # do not crash if file ends with empty line\n",
    "                continue\n",
    "            \n",
    "            gene, _, identity, *__, taxonomy = line.split('\\t')\n",
    "            \n",
    "            # Remove gene name and linebreak from taxonomy\n",
    "            taxonomy = taxonomy.rstrip()\n",
    "            identity = float(identity) / 100\n",
    "            taxdict[gene] = (taxonomy, identity)\n",
    "    \n",
    "    if returntax:\n",
    "        return taxdict\n",
    "    \n",
    "    print('\\tWriting output...')\n",
    "    buffer = list()\n",
    "    for binname, genes in bindict.items():\n",
    "        taxscorepairs = [taxdict[gene] for gene in genes if gene in taxdict]\n",
    "        summary = naively_summarize_bin(taxscorepairs)\n",
    "        buffer.append('{}\\t{}'.format(binname, summary))\n",
    "        \n",
    "    with open(args.output, 'w') as outfile:\n",
    "        print('\\n'.join(buffer), file=outfile)\n",
    "        \n",
    "    return None"
   ]
  },
  {
   "cell_type": "code",
   "execution_count": 11,
   "metadata": {
    "collapsed": true
   },
   "outputs": [],
   "source": [
    "def meditate(bintablepath, diamondout):\n",
    "    \"Computes the objects necessary for introspection and keeps them in memory.\"\n",
    "    \n",
    "    bindict = create_bindict(bintablepath)\n",
    "    taxdict = naive_summary(bindict, diamondout, returntax=True)\n",
    "    return bindict, taxdict"
   ]
  },
  {
   "cell_type": "code",
   "execution_count": 12,
   "metadata": {
    "collapsed": true
   },
   "outputs": [],
   "source": [
    "def introspect(binname):\n",
    "    \"When having meditated, you can introspect the decision process for a bin.\"\n",
    "    \n",
    "    genes = bindict[binname]\n",
    "    taxidispairs = [taxdict[gene] for gene in genes if gene in taxdict]\n",
    "    return naively_summarize_bin(taxidispairs, introspect=True)"
   ]
  },
  {
   "cell_type": "code",
   "execution_count": 13,
   "metadata": {},
   "outputs": [
    {
     "name": "stdout",
     "output_type": "stream",
     "text": [
      "Parsing clusters.\n",
      "\tDone in 1.65 seconds\n",
      "Summarizing bin taxonomy.\n",
      "\tExtracting taxonomy...\n",
      "\tDone in 75.41 seconds\n"
     ]
    }
   ],
   "source": [
    "path = '/mnt/computerome/people/jakni/archaea/archaeaout/metabat/'\n",
    "bindict, taxdict = meditate(path+'bintable.txt', path+'diamonduniprot.txt')"
   ]
  },
  {
   "cell_type": "code",
   "execution_count": 16,
   "metadata": {},
   "outputs": [
    {
     "name": "stdout",
     "output_type": "stream",
     "text": [
      "Domain (rankwide score: 191.9)\n",
      "\tEukaryota           190.92  990\n",
      "\tBacteria            1.0     1\n",
      "\n",
      "Phylum (rankwide score: 136.8)\n",
      "\tFungi               135.65  988\n",
      "\tViridiplantae       0.11    2\n",
      "\n",
      "Class (rankwide score: 93.6)\n",
      "\tDikarya             92.49   988\n",
      "\n",
      "Order (rankwide score: 62.5)\n",
      "\tBasidiomycota       61.4    987\n",
      "\tAscomycota          0.02    1\n",
      "\n",
      "Family (rankwide score: 42.0)\n",
      "\tAgaricomycotina     40.78   974\n",
      "\tPucciniomycotina    0.18    13\n",
      "\n",
      "Genus (rankwide score: 29.2)\n",
      "\tAgaricomycetes      28.1    974\n",
      "\n",
      "Species (rankwide score: 20.8)\n",
      "\tAgaricomycetidae    19.84   879\n",
      "\tPolyporales         0.01    92\n",
      "\tRussulales          0.0     1\n",
      "\n",
      "subclass (rankwide score: 19.6)\n",
      "\tBoletales           19.63   685\n",
      "\tAgaricales          0.0     174\n",
      "\tAtheliales          0.0     19\n",
      "\n",
      "subclass (rankwide score: 19.5)\n",
      "\tSuillineae          19.48   376\n",
      "\tSclerodermatineae   0.0     174\n",
      "\tConiophorineae      0.0     27\n",
      "\n",
      "subclass (rankwide score: 19.4)\n",
      "\tSuillaceae          19.36   315\n",
      "\tRhizopogonaceae     0.0     61\n",
      "\n",
      "subclass (rankwide score: 19.3)\n",
      "\tSuillus             19.27   315\n",
      "\n",
      "subclass (rankwide score: 19.2)\n",
      "\tluteus              19.21   315\n",
      "\n"
     ]
    },
    {
     "data": {
      "text/plain": [
       "'Eukaryota;Fungi;Dikarya;Basidiomycota;Agaricomycotina;Agaricomycetes;Agaricomycetidae;Boletales;Suillineae;Suillaceae;Suillus;luteus'"
      ]
     },
     "execution_count": 16,
     "metadata": {},
     "output_type": "execute_result"
    }
   ],
   "source": [
    "bin = 'bin.99'\n",
    "\n",
    "genes = bindict[bin]\n",
    "taxes = [taxdict[gene] for gene in genes if gene in taxdict]\n",
    "introspect(bin)"
   ]
  },
  {
   "cell_type": "code",
   "execution_count": 163,
   "metadata": {
    "collapsed": true
   },
   "outputs": [],
   "source": [
    "def main(args):\n",
    "    begin_time = time()\n",
    "    \n",
    "    if not os.path.exists(args.diamondout):\n",
    "        diamond_blast(args)\n",
    "    else:\n",
    "        print('Diamond output found, skipping creation.')\n",
    "        \n",
    "    bindict = create_bindict(args.bintable)\n",
    "    naive_summary(bindict, args.diamondout)\n",
    "    \n",
    "    print('Complete. Total elapsed time:', round(time() - begin_time, 2), 'seconds.')"
   ]
  },
  {
   "cell_type": "code",
   "execution_count": null,
   "metadata": {
    "collapsed": true
   },
   "outputs": [],
   "source": [
    "if __name__ == '__main__':\n",
    "    usage = 'python annotator.py bintable output diamondout [-q query] [options]'\n",
    "    \n",
    "    # Parse input\n",
    "    parser = argparse.ArgumentParser(\n",
    "        description=__doc__,\n",
    "        formatter_class=argparse.RawDescriptionHelpFormatter,\n",
    "        usage=usage)\n",
    "    \n",
    "    cpus = os.cpu_count()\n",
    "    \n",
    "    parser.add_argument('bintable', help='path to table of bins')\n",
    "    parser.add_argument('output', help='path to output file')\n",
    "    parser.add_argument('diamondout', help='path to put/find diamond output')\n",
    "    \n",
    "    parser.add_argument('-q', dest='query', metavar='query', help='path to blast query')\n",
    "    parser.add_argument('-b', metavar='diamond', default='/services/tools/diamond/0.8.31/diamond',\n",
    "                        dest='diamondpath', help='path to diamond blast executable. [preset]')\n",
    "    parser.add_argument('-d', dest='database', metavar='database',\n",
    "            default='/home/projects/metagenomics/data/uniprot/uniprot.dmnd',\n",
    "                        help='path to diamond database. [preset]')\n",
    "    parser.add_argument('-c', dest='cores', metavar='cores', type=int, default=cpus,\n",
    "        help='no. of cores to use for diamondblasting [{}]'.format(cpus))\n",
    "    \n",
    "    # Print help if no arguments are given\n",
    "    if len(sys.argv) == 1:\n",
    "        parser.print_help()\n",
    "        sys.exit()\n",
    "    \n",
    "    args = parser.parse_args()\n",
    "    \n",
    "    # Check number of cores\n",
    "    if args.cores < 1:\n",
    "        raise argsparse.ArgumentTypeError('Zero or negative cores provided. Exiting')\n",
    "        \n",
    "    # Input must exist - bintable\n",
    "    if not os.path.isfile(args.bintable):\n",
    "        raise FileNotFoundError(args.bintable)\n",
    "        \n",
    "    # Input must exist - diamondout, database and diamondpath\n",
    "    if not os.path.exists(args.diamondout):\n",
    "        for path in (args.query, args.diamondpath, args.database):\n",
    "            if path is None: # only applies to values without defaults\n",
    "                raise ValueError('Must specify query, unless diamondout already exists.')\n",
    "            if not os.path.isfile(path):\n",
    "                raise FileNotFoundError(path)\n",
    "                \n",
    "        if os.path.exists(args.diamondout + '.log'):\n",
    "            raise FileExistsError(args.diamondout + '.log')\n",
    "        \n",
    "    # Output cannot exist\n",
    "    if os.path.exists(args.output):\n",
    "        print('Output already exists.')\n",
    "        raise FileExistsError(args.output)\n",
    "\n",
    "    main(args)"
   ]
  }
 ],
 "metadata": {
  "kernelspec": {
   "display_name": "Python 3",
   "language": "python",
   "name": "python3"
  },
  "language_info": {
   "codemirror_mode": {
    "name": "ipython",
    "version": 3
   },
   "file_extension": ".py",
   "mimetype": "text/x-python",
   "name": "python",
   "nbconvert_exporter": "python",
   "pygments_lexer": "ipython3",
   "version": "3.6.5"
  }
 },
 "nbformat": 4,
 "nbformat_minor": 2
}
