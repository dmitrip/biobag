{
 "cells": [
  {
   "cell_type": "code",
   "execution_count": 25,
   "metadata": {},
   "outputs": [
    {
     "data": {
      "text/plain": [
       "'Bioinformatics toolbox\\n\\nThis is a loose collection of tools that require the numpy package.\\n\\nAuthor: Jakob Nybo Nissen, DTU Bioinformatics\\n'"
      ]
     },
     "execution_count": 25,
     "metadata": {},
     "output_type": "execute_result"
    }
   ],
   "source": [
    "\"\"\"Bioinformatics toolbox\n",
    "\n",
    "This is a loose collection of tools that require the numpy package.\n",
    "\n",
    "Author: Jakob Nybo Nissen, DTU Bioinformatics\n",
    "\"\"\""
   ]
  },
  {
   "cell_type": "code",
   "execution_count": 10,
   "metadata": {},
   "outputs": [],
   "source": [
    "import numpy as _np"
   ]
  },
  {
   "cell_type": "code",
   "execution_count": 50,
   "metadata": {},
   "outputs": [],
   "source": [
    "def zscore(array, axis=None, inplace=False):\n",
    "    \"Calculates zscore for an array. A cheap copy of scipy.stats.zscore.\"\n",
    "    \n",
    "    if axis is not None and axis >= array.ndim:\n",
    "        raise _np.AxisError('array only has {} axes'.format(array.ndim))\n",
    "        \n",
    "    if inplace and array.dtype not in (_np.float, _np.float16, _np.float32, _np.float64, _np.float128):\n",
    "            raise TypeError('Cannot convert a non-float array to zscores')\n",
    "        \n",
    "    mean = array.mean(axis=axis)\n",
    "    std = array.std(axis=axis)\n",
    "    \n",
    "    if axis is None:\n",
    "        if std == 0:\n",
    "            std = 1 # prevent divide by zero\n",
    "            \n",
    "    else:\n",
    "        std[std == 0.0] = 1 # prevent divide by zero\n",
    "        shape = tuple(dim if ax != axis else 1 for ax, dim in enumerate(array.shape))\n",
    "        mean.shape, std.shape = shape, shape\n",
    "\n",
    "    if inplace:\n",
    "        array -= mean\n",
    "        array /= std\n",
    "        return None\n",
    "    else:\n",
    "        return (array - mean) / std"
   ]
  }
 ],
 "metadata": {
  "kernelspec": {
   "display_name": "Python 3",
   "language": "python",
   "name": "python3"
  },
  "language_info": {
   "codemirror_mode": {
    "name": "ipython",
    "version": 3
   },
   "file_extension": ".py",
   "mimetype": "text/x-python",
   "name": "python",
   "nbconvert_exporter": "python",
   "pygments_lexer": "ipython3",
   "version": "3.6.5"
  }
 },
 "nbformat": 4,
 "nbformat_minor": 2
}
