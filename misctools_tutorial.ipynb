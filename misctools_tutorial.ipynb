{
 "cells": [
  {
   "cell_type": "markdown",
   "metadata": {},
   "source": [
    "# Misctools tutorial\n",
    "\n",
    "In my experience, bioinformaticians typically do highly situation-specific stuff to their data. So instead of providing entire pipelines that'll never really apply anyway,  I've so made a toolbox of functions you can combine to patch together your own data analysis, UNIX-style."
   ]
  },
  {
   "cell_type": "code",
   "execution_count": 2,
   "metadata": {
    "collapsed": true
   },
   "outputs": [],
   "source": [
    "import os\n",
    "import misctools\n",
    "import numpytools"
   ]
  },
  {
   "cell_type": "markdown",
   "metadata": {},
   "source": [
    "## Fasta sequences\n",
    "\n",
    "Let's instantiate a fasta sequence manually to work with:"
   ]
  },
  {
   "cell_type": "code",
   "execution_count": 3,
   "metadata": {},
   "outputs": [
    {
     "data": {
      "text/plain": [
       "<Fasta Entry TXN>"
      ]
     },
     "execution_count": 3,
     "metadata": {},
     "output_type": "execute_result"
    }
   ],
   "source": [
    "thioredoxin_cds = \"\"\"ATGGTGAAGCAGATCGAGAGCAAGACTGCTTTTCAGGAAGCCTTGGACGCTGCAGGTG\n",
    "ATAAACTTGTAGTAGTTGACTTCTCAGCCACGTGGTGTGGGCCTTGCAAAATGATCAAGCCTTTCTTTCATGATGTTGC\n",
    "TTCAGAGTGTGAAGTCAAATGCATGCCAACATTCCAGTTTTTTAAGAAGGGACAAAAGGTGGGTGAATTTTCTGGAGCC\n",
    "AATAAGGAAAAGCTTGAAGCCACCATTAATGAATTAGTCTAA\"\"\".replace('\\n', '')\n",
    "\n",
    "thioredoxin = misctools.FastaEntry(\"TXN\", thioredoxin_cds)\n",
    "thioredoxin"
   ]
  },
  {
   "cell_type": "markdown",
   "metadata": {},
   "source": [
    "---\n",
    "This object is fast and memory efficent. You can ask its length and slice its sequence directly:\n",
    "\n",
    "---"
   ]
  },
  {
   "cell_type": "code",
   "execution_count": 4,
   "metadata": {},
   "outputs": [
    {
     "name": "stdout",
     "output_type": "stream",
     "text": [
      "258\n",
      "AGCAAGACTGCTTTTCAGGAAGCCTTGGACGCTGCA\n"
     ]
    }
   ],
   "source": [
    "print(len(thioredoxin))\n",
    "print(thioredoxin[18:54]) # This is a string, not a Fasta Entry!"
   ]
  },
  {
   "cell_type": "markdown",
   "metadata": {},
   "source": [
    "---\n",
    "The string representation (`str(thioredoxin)`) is fasta-formatted, with a single line for the sequence. If you want to represent it with the sequence over multiple lines, use the `thioredoxin.format` method:\n",
    "\n",
    "---"
   ]
  },
  {
   "cell_type": "code",
   "execution_count": 8,
   "metadata": {},
   "outputs": [
    {
     "name": "stdout",
     "output_type": "stream",
     "text": [
      ">TXN\n",
      "ATGGTGAAGCAGATCGAGAGCAAGACTGCTTTTCAGGAAGCCTTGGACGCTGCAGGTGATAAACTTGTAGTAGTTGACTTCTCAGCCACGTGGTGTGGGCCTTGCAAAATGATCAAGCCTTTCTTTCATGATGTTGCTTCAGAGTGTGAAGTCAAATGCATGCCAACATTCCAGTTTTTTAAGAAGGGACAAAAGGTGGGTGAATTTTCTGGAGCCAATAAGGAAAAGCTTGAAGCCACCATTAATGAATTAGTCTAA\n",
      ">TXN\n",
      "ATGGTGAAGCAGATCGAGAGCAAGACTGCTTTTCAGGAAGCCTTGGACGCTGCAGGTGATAAACTTGTAGTAGTTGACT\n",
      "TCTCAGCCACGTGGTGTGGGCCTTGCAAAATGATCAAGCCTTTCTTTCATGATGTTGCTTCAGAGTGTGAAGTCAAATG\n",
      "CATGCCAACATTCCAGTTTTTTAAGAAGGGACAAAAGGTGGGTGAATTTTCTGGAGCCAATAAGGAAAAGCTTGAAGCC\n",
      "ACCATTAATGAATTAGTCTAA\n"
     ]
    }
   ],
   "source": [
    "print(str(thioredoxin))\n",
    "print(thioredoxin.format(width=79))"
   ]
  },
  {
   "cell_type": "markdown",
   "metadata": {},
   "source": [
    "---\n",
    "You can also create reverse complemented and translated versions of the entry:\n",
    "\n",
    "\n",
    "---"
   ]
  },
  {
   "cell_type": "code",
   "execution_count": 6,
   "metadata": {},
   "outputs": [
    {
     "name": "stdout",
     "output_type": "stream",
     "text": [
      ">TXN\n",
      "TTAGACTAATTCATTAATGGTGGCTTCAAGCTTTTCCTTATTGGCTCCAGAAAATTCACCCACCTTTTGTCCCTTCTTAAAAAACTGGAATGTTGGCATGCATTTGACTTCACACTCTGAAGCAACATCATGAAAGAAAGGCTTGATCATTTTGCAAGGCCCACACCACGTGGCTGAGAAGTCAACTACTACAAGTTTATCACCTGCAGCGTCCAAGGCTTCCTGAAAAGCAGTCTTGCTCTCGATCTGCTTCACCAT\n",
      ">TXN\n",
      "MVKQIESKTAFQEALDAAGDKLVVVDFSATWCGPCKMIKPFFHDVASECEVKCMPTFQFFKKGQKVGEFSGANKEKLEATINELV\n"
     ]
    }
   ],
   "source": [
    "rvc = thioredoxin.reversecomplemented()\n",
    "trn = thioredoxin.translated(endatstop=True)\n",
    "\n",
    "print(rvc)\n",
    "print(trn)"
   ]
  },
  {
   "cell_type": "markdown",
   "metadata": {},
   "source": [
    "---\n",
    "Normally we don't instantiate fasta entries manually. Instead, we work with fasta files.\n",
    "\n",
    "## Fasta files\n",
    "\n",
    "There are a few functions for dealing with fasta files:\n",
    "\n",
    "`iterfasta` - Read fasta files as FastaEntry objects. Use this as the default.\n",
    "\n",
    "`simple_iterfasta` - Read fasta files as (header, sequence) tuples.\n",
    "\n",
    "`byte_iterfasta` - this is part of the module `numpytools`... stay tuned.\n",
    "\n",
    "All of these functions are used the same ways. Each of them are used on an open file to give a generator. While the file is opened, the generator can be iterated over to yield entries:"
   ]
  },
  {
   "cell_type": "code",
   "execution_count": 7,
   "metadata": {},
   "outputs": [
    {
     "data": {
      "text/plain": [
       "<Fasta Entry Q5ZMT0 Eukaryota;Metazoa;Chordata;Craniata;Vertebrata;Euteleostomi;Archelosauria;Archosauria;Dinosauria;Saurischia;Theropoda;Coelurosauria;Aves;Neognathae;Galloanserae;Galliformes;Phasianidae;Phasianinae;Gallus>"
      ]
     },
     "execution_count": 7,
     "metadata": {},
     "output_type": "execute_result"
    }
   ],
   "source": [
    "with open('test/test.fasta') as file:\n",
    "    entries = misctools.iterfasta(file)\n",
    "    first_entry = next(entries)\n",
    "    next_ten_entries = [next(entries) for i in range(10)]\n",
    "    rest_of_entries = list(entries)\n",
    "    \n",
    "first_entry"
   ]
  },
  {
   "cell_type": "markdown",
   "metadata": {},
   "source": [
    "---\n",
    "There is also the similar `simplefastaiter`, which yields tuples as shown below.\n",
    "\n",
    "---"
   ]
  },
  {
   "cell_type": "code",
   "execution_count": 12,
   "metadata": {},
   "outputs": [
    {
     "data": {
      "text/plain": [
       "('Q5ZMT0 Eukaryota;Metazoa;Chordata;Craniata;Vertebrata;Euteleostomi;Archelosauria;Archosauria;Dinosauria;Saurischia;Theropoda;Coelurosauria;Aves;Neognathae;Galloanserae;Galliformes;Phasianidae;Phasianinae;Gallus',\n",
       " 'ATCGGTCCATCGTGATTATCGGCCGAGAGACAACCTGAAAACCGACCTCGTATAGCACTTGCCGGTAGATCACAATCCAGGGCCACTAACTAATGACTCTAAAACTTAGACAAGTGGTATCACATACATAATGGGTATTCTGGTTATAAATGGAGCTCCCGTGCATGCATGCGTCGTGTACAATTATAAGTGCGTCCCCCAAGAACCGGGGAGGACTCCTTGACATTATCAGTCCTCATTCTAGGCGATGATCCTGTTGGCCGC')"
      ]
     },
     "execution_count": 12,
     "metadata": {},
     "output_type": "execute_result"
    }
   ],
   "source": [
    "with open('test/test.fasta') as file:\n",
    "    entries = misctools.simple_iterfasta(file)\n",
    "    first_header, first_sequence = next(entries)\n",
    "    \n",
    "first_header, first_sequence"
   ]
  },
  {
   "cell_type": "markdown",
   "metadata": {},
   "source": [
    "---\n",
    "These readers are fast, and only loads the sequences into memory as they are being iterated over. You can safely open that 200 GB fasta file! As always in Python, make sure to use the `with open` syntax to automatically close files.\n",
    "\n",
    "They only do the most rudementary format checking, though, so make sure the file is actually fasta formatted. "
   ]
  },
  {
   "cell_type": "markdown",
   "metadata": {},
   "source": [
    "Let's have a look at how to print to files memory-effectively:\n",
    "\n",
    "## Stream printers\n",
    "\n",
    "A stream printer allows you to print an iterator to a file a number of objects at a time. This strikes a balance between limiting disk access, which is slow, and keeping the output in memory, which may cause a big memory footprint. There are two stream printer function. The first one, `streamprint`, is used with open files.\n",
    "\n",
    "In the code above, we got a few fasta entries. Let's print the rest of the entries to a file, 100 entries at a time:\n",
    "\n",
    "---"
   ]
  },
  {
   "cell_type": "code",
   "execution_count": 9,
   "metadata": {
    "collapsed": true
   },
   "outputs": [],
   "source": [
    "os.mkdir('outputs')\n",
    "\n",
    "with open('outputs/last_entries.fasta', 'w') as file:\n",
    "    misctools.streamprint(rest_of_entries, file, bufferlength=100)"
   ]
  },
  {
   "cell_type": "markdown",
   "metadata": {},
   "source": [
    "---\n",
    "We can combine a fasta reader with a stream printer to read a file, filter it, and write the filtered entries back using very little memory.\n",
    "\n",
    "Make sure the filtering is done with a generator expression, though, a list would keep all the entries in memory!\n",
    "\n",
    "---"
   ]
  },
  {
   "cell_type": "code",
   "execution_count": 10,
   "metadata": {
    "collapsed": true
   },
   "outputs": [],
   "source": [
    "with open('test/test.fasta') as fastafile, open('outputs/filtered.fasta', 'w') as outfile:\n",
    "    entries = misctools.iterfasta(fastafile)\n",
    "    filtered = (entry.translated() for entry in entries if len(entry) >= 150) # generator expression!\n",
    "    misctools.streamprint(filtered, outfile)"
   ]
  },
  {
   "cell_type": "markdown",
   "metadata": {},
   "source": [
    "---\n",
    "The other stream printer function is the fork printer. This allows you to print to several files memory effeciently. Please be aware though, that it keeps a buffer _per file_, so if you make the buffers hold hundreds of megabytes each, problems can arise.\n",
    "\n",
    "Say you want to iterate over a fasta file and split it into two files, one with sequences from _Bacteria_ and one with sequences from eukaryotes and archaea:\n",
    "___"
   ]
  },
  {
   "cell_type": "code",
   "execution_count": 11,
   "metadata": {
    "collapsed": true
   },
   "outputs": [],
   "source": [
    "with open('test/test.fasta') as fastafile:\n",
    "    entries = misctools.iterfasta(fastafile)\n",
    "    \n",
    "    # Yield (index, object), to print to the index'th filename given.\n",
    "    generator = ((0, entry) if 'Bacteria' in entry.header else (1, entry) for entry in entries)\n",
    "    misctools.forkprint(generator, 'outputs/bacteria.fasta', 'outputs/neomura.fasta')"
   ]
  },
  {
   "cell_type": "markdown",
   "metadata": {},
   "source": [
    "## Trying together iterfasta, streamprint and FastaEntry:\n",
    "\n",
    "Look through a fasta file for sequences from bacteria. All the ones with a name ending in an uneven number must be reverse complemented. Then translate to amino acids and truncate each of the sequences to before their first stop. Then write to a new file.\n",
    "\n",
    "No problem!\n",
    "\n",
    "---"
   ]
  },
  {
   "cell_type": "code",
   "execution_count": 15,
   "metadata": {
    "collapsed": true
   },
   "outputs": [],
   "source": [
    "# Create a generator of lines which does processing on the fly.\n",
    "# Barely any memory footprint!\n",
    "def process(entries):\n",
    "    for entry in entries:\n",
    "        # Skip non-bacteria\n",
    "        if 'Bacteria;' not in entry.header:\n",
    "            continue\n",
    "\n",
    "        # Reverse-complement the ones with uneven numbers in accession\n",
    "        accession = entry.header.split()[0]\n",
    "        if int(accession[-1]) % 2 == 1:\n",
    "            entry = entry.reversecomplemented()\n",
    "\n",
    "        entry = entry.translated(endatstop=True)\n",
    "\n",
    "        # A sequence with only a stop codon will return None\n",
    "        if entry is not None:\n",
    "            yield entry\n",
    "                \n",
    "# Stream it to the output file\n",
    "with open('test/test.fasta') as fastafile, open('outputs/fixed.fasta', 'w') as outfile:\n",
    "    generator = process(misctools.iterfasta(fastafile))\n",
    "    misctools.streamprint(generator, outfile)"
   ]
  },
  {
   "cell_type": "markdown",
   "metadata": {},
   "source": [
    "---\n",
    "## Opening files which may be gzipped\n",
    "\n",
    "The Opener class can be used instead of the `open` function if you don't know if the file will be gzipped or not.\n",
    "The class reads the first few bytes upon opening to check the signature. If it's that of a gzipped file, it returns a map object that yields unzipped, decoded lines. If not, it works as an ordinary `open`:\n",
    "\n",
    "---"
   ]
  },
  {
   "cell_type": "code",
   "execution_count": 16,
   "metadata": {},
   "outputs": [
    {
     "name": "stdout",
     "output_type": "stream",
     "text": [
      ">Q5ZMT0 Eukaryota;Metazoa;Chordata;Craniata;Vertebrata;Euteleostomi;Archelosauria;Archosauria;Dinosauria;Saurischia;Theropoda;Coelurosauria;Aves;Neognathae;Galloanserae;Galliformes;Phasianidae;Phasianinae;Gallus\n",
      "\n",
      "ATCGGTCCATCGTGATTATCGGCCGAGAGACAACCTGAAAACCGACCTCGTATAGCACTTGCCGGTAGATCACAATCCAGGGCCACTAACTAATGACTCTAAAACTTAGACAAGTGGTATCACATACATAATGGGTATTCTGGTTATAAATGGAGCTCCCGTGCATGCATGCGTCGTGTACAATTATAAGTGCGTCCCCCAAGAACCGGGGAGGACTCCTTGACATTATCAGTCCTCATTCTAGGCGATGATCCTGTTGGCCGC\n",
      "\n"
     ]
    }
   ],
   "source": [
    "with misctools.Reader('test/test.fasta') as lines:\n",
    "    print(next(lines))\n",
    "    print(next(lines))"
   ]
  },
  {
   "cell_type": "code",
   "execution_count": 17,
   "metadata": {},
   "outputs": [
    {
     "name": "stdout",
     "output_type": "stream",
     "text": [
      ">Q5ZMT0 Eukaryota;Metazoa;Chordata;Craniata;Vertebrata;Euteleostomi;Archelosauria;Archosauria;Dinosauria;Saurischia;Theropoda;Coelurosauria;Aves;Neognathae;Galloanserae;Galliformes;Phasianidae;Phasianinae;Gallus\n",
      "\n",
      "ATCGGTCCATCGTGATTATCGGCCGAGAGACAACCTGAAAACCGACCTCGTATAGCACTTGCCGGTAGATCACAATCCAGGGCCACTAACTAATGACTCTAAAACTTAGACAAGTGGTATCACATACATAATGGGTATTCTGGTTATAAATGGAGCTCCCGTGCATGCATGCGTCGTGTACAATTATAAGTGCGTCCCCCAAGAACCGGGGAGGACTCCTTGACATTATCAGTCCTCATTCTAGGCGATGATCCTGTTGGCCGC\n",
      "\n"
     ]
    }
   ],
   "source": [
    "with misctools.Reader('test/gzipped.gz') as lines:\n",
    "    print(next(lines))\n",
    "    print(next(lines))"
   ]
  },
  {
   "cell_type": "code",
   "execution_count": 18,
   "metadata": {},
   "outputs": [
    {
     "name": "stdout",
     "output_type": "stream",
     "text": [
      "b'>Q5ZMT0 Eukaryota;Metazoa;Chordata;Craniata;Vertebrata;Euteleostomi;Archelosauria;Archosauria;Dinosauria;Saurischia;Theropoda;Coelurosauria;Aves;Neognathae;Galloanserae;Galliformes;Phasianidae;Phasianinae;Gallus\\n'\n",
      "b'ATCGGTCCATCGTGATTATCGGCCGAGAGACAACCTGAAAACCGACCTCGTATAGCACTTGCCGGTAGATCACAATCCAGGGCCACTAACTAATGACTCTAAAACTTAGACAAGTGGTATCACATACATAATGGGTATTCTGGTTATAAATGGAGCTCCCGTGCATGCATGCGTCGTGTACAATTATAAGTGCGTCCCCCAAGAACCGGGGAGGACTCCTTGACATTATCAGTCCTCATTCTAGGCGATGATCCTGTTGGCCGC\\n'\n"
     ]
    }
   ],
   "source": [
    "with misctools.Reader('test/gzipped.gz', 'rb') as lines:\n",
    "    print(next(lines))\n",
    "    print(next(lines))"
   ]
  },
  {
   "cell_type": "markdown",
   "metadata": {},
   "source": [
    "## Rounding to significant figures\n",
    "\n",
    "The `significant` function simply returns string representing the input number, rounded to a given number of significant figures, 3 by default."
   ]
  },
  {
   "cell_type": "code",
   "execution_count": 19,
   "metadata": {},
   "outputs": [
    {
     "name": "stdout",
     "output_type": "stream",
     "text": [
      "Before: 32352 After: 32350\n",
      "Before: 11.543647 After: 11.54\n",
      "Before: 0.3333333333333333 After: 0.333\n",
      "Before: -11.222 After: -11.22\n",
      "Before: 5 After: 5.000\n"
     ]
    }
   ],
   "source": [
    "numbers = [32352, 11.543647, 1/3, -11.222, 5]\n",
    "\n",
    "for number in numbers:\n",
    "    print('Before:', number, 'After:', misctools.significant(number, 4))"
   ]
  },
  {
   "cell_type": "markdown",
   "metadata": {},
   "source": [
    "---\n",
    "# Numpytools\n",
    "\n",
    "A few of the tools require Numpy to work - these are in a separate file, numpytools.\n",
    "\n",
    "One function, `byte_iterfasta` is a third fasta reader, which returns the sequences\n",
    "as numpy.uint8 byte arrays which is useful for direct manipulation with functions like numpytools.tnf\n",
    "\n",
    "To use this, you must open the fasta file in binary reading mode:\n",
    "\n",
    "---"
   ]
  },
  {
   "cell_type": "code",
   "execution_count": 21,
   "metadata": {},
   "outputs": [
    {
     "name": "stdout",
     "output_type": "stream",
     "text": [
      "b'Q5ZMT0 Eukaryota;Metazoa;Chordata;Craniata;Vertebrata;Euteleostomi;Archelosauria;Archosauria;Dinosauria;Saurischia;Theropoda;Coelurosauria;Aves;Neognathae;Galloanserae;Galliformes;Phasianidae;Phasianinae;Gallus'\n"
     ]
    },
    {
     "data": {
      "text/plain": [
       "array([65, 84, 67, 71, 71, 84, 67, 67, 65, 84, 67, 71, 84, 71, 65, 84, 84,\n",
       "       65, 84, 67, 71, 71, 67, 67, 71, 65, 71, 65, 71, 65, 67, 65, 65, 67,\n",
       "       67, 84, 71, 65, 65, 65, 65, 67, 67, 71, 65, 67, 67, 84, 67, 71, 84,\n",
       "       65, 84, 65, 71, 67, 65, 67, 84, 84, 71, 67, 67, 71, 71, 84, 65, 71,\n",
       "       65, 84, 67, 65, 67, 65, 65, 84, 67, 67, 65, 71, 71, 71, 67, 67, 65,\n",
       "       67, 84, 65, 65, 67, 84, 65, 65, 84, 71, 65, 67, 84, 67, 84, 65, 65,\n",
       "       65, 65, 67, 84, 84, 65, 71, 65, 67, 65, 65, 71, 84, 71, 71, 84, 65,\n",
       "       84, 67, 65, 67, 65, 84, 65, 67, 65, 84, 65, 65, 84, 71, 71, 71, 84,\n",
       "       65, 84, 84, 67, 84, 71, 71, 84, 84, 65, 84, 65, 65, 65, 84, 71, 71,\n",
       "       65, 71, 67, 84, 67, 67, 67, 71, 84, 71, 67, 65, 84, 71, 67, 65, 84,\n",
       "       71, 67, 71, 84, 67, 71, 84, 71, 84, 65, 67, 65, 65, 84, 84, 65, 84,\n",
       "       65, 65, 71, 84, 71, 67, 71, 84, 67, 67, 67, 67, 67, 65, 65, 71, 65,\n",
       "       65, 67, 67, 71, 71, 71, 71, 65, 71, 71, 65, 67, 84, 67, 67, 84, 84,\n",
       "       71, 65, 67, 65, 84, 84, 65, 84, 67, 65, 71, 84, 67, 67, 84, 67, 65,\n",
       "       84, 84, 67, 84, 65, 71, 71, 67, 71, 65, 84, 71, 65, 84, 67, 67, 84,\n",
       "       71, 84, 84, 71, 71, 67, 67, 71, 67], dtype=uint8)"
      ]
     },
     "execution_count": 21,
     "metadata": {},
     "output_type": "execute_result"
    }
   ],
   "source": [
    "with open('test/test.fasta', 'rb') as file:\n",
    "    entries = numpytools.byte_iterfasta(file)\n",
    "    header, array = next(entries)\n",
    "\n",
    "print(header)\n",
    "array # 65, 67, 71, 84 are the ASCII bytes for A, C, G, T"
   ]
  },
  {
   "cell_type": "markdown",
   "metadata": {},
   "source": [
    "---\n",
    "## Tetranucleotide frequences\n",
    "\n",
    "Using a Numpy array given by byte_iterfasta, you can count the tetranucleotide frequencies. There are two functions for that, `tnf` for the raw tetranucleotide ones, and `markov_normalized_tnf` for the markov normalized ones. Both arrays return a 136-length arrays representing the frequency of all tetranucleotides in order. The length is 136, not 256, as some tetranucleotides are the reverse-complement of each other - i.e. AAAA is the same as TTTT. \n",
    "\n",
    "---"
   ]
  },
  {
   "cell_type": "code",
   "execution_count": 22,
   "metadata": {},
   "outputs": [
    {
     "data": {
      "text/plain": [
       "array([ 0.00766284,  0.00766284,  0.        ,  0.00383142,  0.00383142,\n",
       "        0.01532567,  0.        ,  0.00766284,  0.00383142,  0.        ,\n",
       "        0.00383142,  0.01532567,  0.00383142,  0.00766284,  0.01915709,\n",
       "        0.00383142,  0.01532567,  0.00383142,  0.00383142,  0.01149425,\n",
       "        0.00766284,  0.00383142,  0.01532567,  0.00766284,  0.01149425,\n",
       "        0.00766284,  0.00383142,  0.        ,  0.00766284,  0.00766284,\n",
       "        0.00383142,  0.01149425,  0.00766284,  0.00766284,  0.00383142,\n",
       "        0.00383142,  0.        ,  0.        ,  0.00383142,  0.01532567,\n",
       "        0.00383142,  0.00383142,  0.        ,  0.01149425,  0.01532567,\n",
       "        0.02681992,  0.01532567,  0.00383142,  0.        ,  0.01915709,\n",
       "        0.00766284,  0.01532567,  0.01149425,  0.01532567,  0.01149425,\n",
       "        0.01915709,  0.00766284,  0.00766284,  0.        ,  0.00766284,\n",
       "        0.01532567,  0.00766284,  0.        ,  0.01149425,  0.00383142,\n",
       "        0.        ,  0.01149425,  0.00766284,  0.00766284,  0.00766284,\n",
       "        0.00766284,  0.00766284,  0.00766284,  0.00766284,  0.01149425,\n",
       "        0.00766284,  0.01532567,  0.00383142,  0.00766284,  0.00383142,\n",
       "        0.01149425,  0.        ,  0.00766284,  0.00766284,  0.00766284,\n",
       "        0.00383142,  0.        ,  0.        ,  0.01532567,  0.00383142,\n",
       "        0.00766284,  0.01532567,  0.00383142,  0.00383142,  0.00383142,\n",
       "        0.01532567,  0.00766284,  0.        ,  0.00766284,  0.        ,\n",
       "        0.00383142,  0.00383142,  0.01149425,  0.00766284,  0.00766284,\n",
       "        0.00766284,  0.01149425,  0.00766284,  0.00383142,  0.01149425,\n",
       "        0.00766284,  0.00383142,  0.00383142,  0.        ,  0.00383142,\n",
       "        0.        ,  0.01532567,  0.00383142,  0.01149425,  0.01149425,\n",
       "        0.01149425,  0.        ,  0.00383142,  0.00766284,  0.01149425,\n",
       "        0.00766284,  0.00766284,  0.01149425,  0.01532567,  0.01149425,\n",
       "        0.00383142,  0.01149425,  0.        ,  0.00383142,  0.00766284,  0.        ], dtype=float32)"
      ]
     },
     "execution_count": 22,
     "metadata": {},
     "output_type": "execute_result"
    }
   ],
   "source": [
    "numpytools.tnf(array)"
   ]
  },
  {
   "cell_type": "markdown",
   "metadata": {},
   "source": [
    "---\n",
    "## Assembly statistics\n",
    "\n",
    "In order to make it as quick as possible, this function works with files with lists of contig lengths.\n",
    "On UNIX systems, you can make these by using the commands:\n",
    "\n",
    "    For SPAdes: grep '^>' contigs.fasta | cut -d_ -f4 | sort -nr | uniq -c > myfile.txt\n",
    "    For MEGAHIT: grep '^>' final.contigs.fa | cut -d= -f4 | sort -nr | uniq -c > myfile.txt\n",
    "    \n",
    "`assemblystats` takes three arguments. The first is the input filename. The next two\n",
    "arguments are related to the `sizes` attribute - that is, the assembly sizes at different contig size cutoffs.\n",
    "For example, to see assembly sizes from 0 to 20 kbp with a step of 2500, do:\n",
    "\n",
    "---"
   ]
  },
  {
   "cell_type": "code",
   "execution_count": 24,
   "metadata": {
    "scrolled": false
   },
   "outputs": [
    {
     "name": "stdout",
     "output_type": "stream",
     "text": [
      "Number of contigs: 975492\n",
      "Smallest contig: 250\n",
      "Largest contig: 112828\n",
      "N50: 1552\n",
      "Assembly size: 891411678\n",
      "Sizes:\n",
      "\t >= 0 bp: 891411678\n",
      "\t >= 2500 bp: 343976349\n",
      "\t >= 5000 bp: 213200795\n",
      "\t >= 7500 bp: 145077316\n",
      "\t >= 10000 bp: 104495922\n",
      "\t >= 12500 bp: 75206234\n",
      "\t >= 15000 bp: 55686814\n",
      "\t >= 17500 bp: 42019796\n",
      "\t >= 20000 bp: 32483707\n"
     ]
    }
   ],
   "source": [
    "step = 2500\n",
    "xmax = 20000\n",
    "assemblystats = numpytools.assemblystats('test/assemblyinput', xmax=xmax, step=step)\n",
    "\n",
    "print('Number of contigs:', assemblystats.ncontigs)\n",
    "print('Smallest contig:', assemblystats.smallest)\n",
    "print('Largest contig:', assemblystats.largest)\n",
    "print('N50:', assemblystats.n50)\n",
    "print('Assembly size:', assemblystats.size)\n",
    "print('Sizes:')\n",
    "for n, size in enumerate(assemblystats.sizes):\n",
    "    print('\\t >=', n*step, 'bp:', size)"
   ]
  },
  {
   "cell_type": "code",
   "execution_count": 25,
   "metadata": {
    "collapsed": true
   },
   "outputs": [],
   "source": [
    "# Clean up\n",
    "for directory, __, files in os.walk('outputs/'):\n",
    "    for file in files:\n",
    "        os.remove(os.path.join(directory, file))\n",
    "os.rmdir('outputs/')"
   ]
  },
  {
   "cell_type": "code",
   "execution_count": null,
   "metadata": {
    "collapsed": true
   },
   "outputs": [],
   "source": []
  }
 ],
 "metadata": {
  "kernelspec": {
   "display_name": "Python 3",
   "language": "python",
   "name": "python3"
  },
  "language_info": {
   "codemirror_mode": {
    "name": "ipython",
    "version": 3
   },
   "file_extension": ".py",
   "mimetype": "text/x-python",
   "name": "python",
   "nbconvert_exporter": "python",
   "pygments_lexer": "ipython3",
   "version": "3.6.4"
  }
 },
 "nbformat": 4,
 "nbformat_minor": 2
}
