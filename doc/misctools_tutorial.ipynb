{
 "cells": [
  {
   "cell_type": "markdown",
   "metadata": {},
   "source": [
    "# Misctools tutorial\n",
    "\n",
    "In my experience, bioinformaticians typically do highly situation-specific stuff to their data. So instead of providing entire pipelines that'll never really apply anyway,  I've so made a toolbox of functions you can combine to patch together your own data analysis, UNIX-style."
   ]
  },
  {
   "cell_type": "code",
   "execution_count": 1,
   "metadata": {},
   "outputs": [],
   "source": [
    "import os\n",
    "import misctools"
   ]
  },
  {
   "cell_type": "markdown",
   "metadata": {},
   "source": [
    "## Fasta sequences\n",
    "\n",
    "Let's instantiate a fasta sequence manually to work with:"
   ]
  },
  {
   "cell_type": "code",
   "execution_count": 2,
   "metadata": {},
   "outputs": [
    {
     "data": {
      "text/plain": [
       "<FastaEntry TXN>"
      ]
     },
     "execution_count": 2,
     "metadata": {},
     "output_type": "execute_result"
    }
   ],
   "source": [
    "thioredoxin_cds = \"\"\"ATGGTGAAGCAGATCGAGAGCAAGACTGCTTTTCAGGAAGCCTTGGACGCTGCAGGTG\n",
    "ATAAACTTGTAGTAGTTGACTTCTCAGCCACGTGGTGTGGGCCTTGCAAAATGATCAAGCCTTTCTTTCATGATGTTGC\n",
    "TTCAGAGTGTGAAGTCAAATGCATGCCAACATTCCAGTTTTTTAAGAAGGGACAAAAGGTGGGTGAATTTTCTGGAGCC\n",
    "AATAAGGAAAAGCTTGAAGCCACCATTAATGAATTAGTCTAA\"\"\".replace('\\n', '')\n",
    "\n",
    "thioredoxin = misctools.FastaEntry(\"TXN\", thioredoxin_cds)\n",
    "thioredoxin"
   ]
  },
  {
   "cell_type": "markdown",
   "metadata": {},
   "source": [
    "---\n",
    "\n",
    "This object has two main attributes, the header and the sequence.\n",
    "\n",
    "The header is just a string, while the sequence is a bytearray:\n",
    "\n",
    "---"
   ]
  },
  {
   "cell_type": "code",
   "execution_count": 3,
   "metadata": {},
   "outputs": [
    {
     "data": {
      "text/plain": [
       "('TXN',\n",
       " bytearray(b'ATGGTGAAGCAGATCGAGAGCAAGACTGCTTTTCAGGAAGCCTTGGACGCTGCAGGTGATAAACTTGTAGTAGTTGACTTCTCAGCCACGTGGTGTGGGCCTTGCAAAATGATCAAGCCTTTCTTTCATGATGTTGCTTCAGAGTGTGAAGTCAAATGCATGCCAACATTCCAGTTTTTTAAGAAGGGACAAAAGGTGGGTGAATTTTCTGGAGCCAATAAGGAAAAGCTTGAAGCCACCATTAATGAATTAGTCTAA'))"
      ]
     },
     "execution_count": 3,
     "metadata": {},
     "output_type": "execute_result"
    }
   ],
   "source": [
    "thioredoxin.header, thioredoxin.sequence"
   ]
  },
  {
   "cell_type": "markdown",
   "metadata": {},
   "source": [
    "---\n",
    "This makes the object fast and memory efficient.\n",
    "\n",
    "You can ask its length and slice into it directly:\n",
    "\n",
    "---"
   ]
  },
  {
   "cell_type": "code",
   "execution_count": 4,
   "metadata": {},
   "outputs": [
    {
     "name": "stdout",
     "output_type": "stream",
     "text": [
      "258\n",
      "bytearray(b'AGCAAGACTGCTTTTCAGGAAGCCTTGGACGCTGCA')\n",
      "84\n"
     ]
    }
   ],
   "source": [
    "print(len(thioredoxin))\n",
    "print(thioredoxin[18:54]) # This is a bytearray, not a Fasta Entry!\n",
    "print(thioredoxin[50]) # This is a byte - i.e. a number between 0 and 255"
   ]
  },
  {
   "cell_type": "markdown",
   "metadata": {},
   "source": [
    "---\n",
    "The string representation (`str(thioredoxin)`) is fasta-formatted, with a single line for the sequence. If you want to represent it with the sequence over multiple lines, use the `thioredoxin.format` method:\n",
    "\n",
    "---"
   ]
  },
  {
   "cell_type": "code",
   "execution_count": 5,
   "metadata": {},
   "outputs": [
    {
     "name": "stdout",
     "output_type": "stream",
     "text": [
      ">TXN\n",
      "ATGGTGAAGCAGATCGAGAGCAAGACTGCTTTTCAGGAAGCCTTGGACGCTGCAGGTGATAAACTTGTAGTAGTTGACTTCTCAGCCACGTGGTGTGGGCCTTGCAAAATGATCAAGCCTTTCTTTCATGATGTTGCTTCAGAGTGTGAAGTCAAATGCATGCCAACATTCCAGTTTTTTAAGAAGGGACAAAAGGTGGGTGAATTTTCTGGAGCCAATAAGGAAAAGCTTGAAGCCACCATTAATGAATTAGTCTAA\n",
      ">TXN\n",
      "ATGGTGAAGCAGATCGAGAGCAAGACTGCTTTTCAGGAAGCCTTGGACGCTGCAGGTGATAAACTTGTAGTAGTTGACT\n",
      "TCTCAGCCACGTGGTGTGGGCCTTGCAAAATGATCAAGCCTTTCTTTCATGATGTTGCTTCAGAGTGTGAAGTCAAATG\n",
      "CATGCCAACATTCCAGTTTTTTAAGAAGGGACAAAAGGTGGGTGAATTTTCTGGAGCCAATAAGGAAAAGCTTGAAGCC\n",
      "ACCATTAATGAATTAGTCTAA\n"
     ]
    }
   ],
   "source": [
    "print(str(thioredoxin))\n",
    "print(thioredoxin.format(width=79))"
   ]
  },
  {
   "cell_type": "markdown",
   "metadata": {},
   "source": [
    "---\n",
    "You can also create reverse complemented and translated versions of the entry:\n",
    "\n",
    "\n",
    "---"
   ]
  },
  {
   "cell_type": "code",
   "execution_count": 6,
   "metadata": {},
   "outputs": [
    {
     "name": "stdout",
     "output_type": "stream",
     "text": [
      ">TXN\n",
      "TTAGACTAATTCATTAATGGTGGCTTCAAGCTTTTCCTTATTGGCTCCAGAAAATTCACCCACCTTTTGTCCCTTCTTAAAAAACTGGAATGTTGGCATGCATTTGACTTCACACTCTGAAGCAACATCATGAAAGAAAGGCTTGATCATTTTGCAAGGCCCACACCACGTGGCTGAGAAGTCAACTACTACAAGTTTATCACCTGCAGCGTCCAAGGCTTCCTGAAAAGCAGTCTTGCTCTCGATCTGCTTCACCAT\n",
      ">TXN\n",
      "MVKQIESKTAFQEALDAAGDKLVVVDFSATWCGPCKMIKPFFHDVASECEVKCMPTFQFFKKGQKVGEFSGANKEKLEATINELV*\n"
     ]
    }
   ],
   "source": [
    "rvc = thioredoxin.reversecomplemented()\n",
    "trn = thioredoxin.translated(endatstop=False)\n",
    "\n",
    "print(rvc)\n",
    "print(trn) # Notice the * at the end because I passed endatstop=False"
   ]
  },
  {
   "cell_type": "markdown",
   "metadata": {},
   "source": [
    "---\n",
    "Normally we don't instantiate fasta entries manually. Instead, we work with fasta files.\n",
    "\n",
    "## Fasta files\n",
    "\n",
    "There are two functions for dealing with fasta files:\n",
    "\n",
    "`iterfasta` - Read fasta files as FastaEntry objects. Use this as the default.\n",
    "\n",
    "`simple_iterfasta` - Read fasta files as (header, sequence) tuples.\n",
    "\n",
    "Both these functions are used the same ways. Each of them are used on an open file to give a generator. While the file is opened, the generator can be iterated over to yield entries:"
   ]
  },
  {
   "cell_type": "code",
   "execution_count": 7,
   "metadata": {},
   "outputs": [
    {
     "data": {
      "text/plain": [
       "<FastaEntry Q5ZMT0 Eukaryota;Metazoa;Chordata;Craniata;Vertebrata;Euteleostomi;Archelosauria;Archosauria;Dinosauria;Saurischia;Theropoda;Coelurosauria;Aves;Neognathae;Galloanserae;Galliformes;Phasianidae;Phasianinae;Gallus>"
      ]
     },
     "execution_count": 7,
     "metadata": {},
     "output_type": "execute_result"
    }
   ],
   "source": [
    "with open('test/test.fasta') as file:\n",
    "    entries = misctools.iterfasta(file)\n",
    "    first_entry = next(entries)\n",
    "    next_ten_entries = [next(entries) for i in range(10)]\n",
    "    rest_of_entries = list(entries)\n",
    "    \n",
    "first_entry"
   ]
  },
  {
   "cell_type": "markdown",
   "metadata": {},
   "source": [
    "---\n",
    "There is also the similar `simple_fastaiter`, which simpy yields tuples of strings (header, sequence) as shown below.\n",
    "\n",
    "---"
   ]
  },
  {
   "cell_type": "code",
   "execution_count": 8,
   "metadata": {},
   "outputs": [
    {
     "data": {
      "text/plain": [
       "('Q5ZMT0 Eukaryota;Metazoa;Chordata;Craniata;Vertebrata;Euteleostomi;Archelosauria;Archosauria;Dinosauria;Saurischia;Theropoda;Coelurosauria;Aves;Neognathae;Galloanserae;Galliformes;Phasianidae;Phasianinae;Gallus',\n",
       " 'ATCGGTCCATCGTGATTATCGGCCGAGAGACAACCTGAAAACCGACCTCGTATAGCACTTGCCGGTAGATCACAATCCAGGGCCACTAACTAATGACTCTAAAACTTAGACAAGTGGTATCACATACATAATGGGTATTCTGGTTATAAATGGAGCTCCCGTGCATGCATGCGTCGTGTACAATTATAAGTGCGTCCCCCAAGAACCGGGGAGGACTCCTTGACATTATCAGTCCTCATTCTAGGCGATGATCCTGTTGGCCGC')"
      ]
     },
     "execution_count": 8,
     "metadata": {},
     "output_type": "execute_result"
    }
   ],
   "source": [
    "with open('test/test.fasta') as file:\n",
    "    entries = misctools.simple_iterfasta(file)\n",
    "    first_header, first_sequence = next(entries)\n",
    "    \n",
    "first_header, first_sequence"
   ]
  },
  {
   "cell_type": "markdown",
   "metadata": {},
   "source": [
    "---\n",
    "These readers are fast, and only loads the sequences into memory as they are being iterated over. You can safely open that 200 GB fasta file! As always in Python, make sure to use the `with open` syntax to automatically close files.\n",
    "\n",
    "They only do the most rudementary format checking, though, so make sure the file is actually fasta formatted. "
   ]
  },
  {
   "cell_type": "markdown",
   "metadata": {},
   "source": [
    "## Working with kmers\n",
    "\n",
    "Currently, there are just a few functions and methods available for working with kmers in misctools.\n",
    "\n",
    "All kmer methods are implemented in Cython and are therefore fast and efficient.\n",
    "\n",
    "`FastaEntry` has a few methods:\n",
    "\n",
    "`FastaEntry.kmercounts` counts the number of all the different kmers in an entry. For example, for k=4, there are 4 ^ 4 = 256 kmers, so it returns a 256-length array. The kmers are listed alphabetically. The first number, 3, means that AAAA is present thrice, while the last number, 5, means that TTTT is present 5 times."
   ]
  },
  {
   "cell_type": "code",
   "execution_count": 9,
   "metadata": {},
   "outputs": [
    {
     "data": {
      "text/plain": [
       "array('i', [3, 1, 2, 2, 1, 0, 0, 1, 2, 5, 3, 1, 1, 0, 3, 2, 1, 0, 0, 1, 1, 0, 0, 0, 0, 1, 0, 1, 0, 0, 1, 2, 1, 1, 2, 1, 2, 5, 0, 1, 2, 0, 1, 2, 1, 2, 1, 2, 2, 0, 0, 0, 1, 0, 1, 0, 3, 2, 1, 1, 2, 1, 0, 1, 3, 1, 2, 1, 0, 1, 1, 0, 2, 1, 2, 1, 0, 0, 2, 2, 2, 2, 1, 1, 0, 0, 0, 0, 0, 0, 0, 0, 0, 0, 0, 3, 0, 0, 1, 0, 0, 0, 0, 1, 0, 0, 0, 0, 0, 0, 1, 0, 1, 0, 0, 0, 1, 0, 0, 0, 0, 2, 1, 0, 0, 2, 4, 3, 1, 0, 5, 2, 1, 0, 1, 2, 1, 2, 0, 1, 1, 2, 1, 0, 2, 0, 2, 1, 4, 0, 0, 3, 0, 0, 0, 0, 0, 0, 1, 3, 2, 2, 1, 0, 0, 1, 0, 0, 1, 1, 0, 1, 0, 0, 5, 0, 0, 0, 2, 0, 1, 0, 0, 1, 4, 0, 3, 2, 0, 0, 2, 1, 1, 0, 2, 1, 0, 0, 0, 0, 0, 0, 0, 3, 0, 0, 0, 0, 2, 0, 3, 1, 1, 0, 0, 0, 1, 0, 0, 0, 1, 1, 1, 1, 5, 1, 0, 3, 3, 1, 0, 2, 2, 0, 2, 2, 1, 0, 2, 1, 2, 0, 1, 0, 3, 1, 0, 3, 2, 2, 1, 1, 1, 4, 0, 5])"
      ]
     },
     "execution_count": 9,
     "metadata": {},
     "output_type": "execute_result"
    }
   ],
   "source": [
    "thioredoxin.kmercounts(k=4)"
   ]
  },
  {
   "cell_type": "markdown",
   "metadata": {},
   "source": [
    "`FastaEntry.fourmer_freq` counts the frequencies of all the 136 possible fourmers if the reading direction is unknown (e.g. TTTT and AAAA is the same).\n",
    "\n",
    "Note that due to each fourmer being rounded with only 32 bits, it doesn't necessarily sum to exactly one:"
   ]
  },
  {
   "cell_type": "code",
   "execution_count": 10,
   "metadata": {},
   "outputs": [
    {
     "name": "stdout",
     "output_type": "stream",
     "text": [
      "array('f', [0.0313725508749485, 0.007843137718737125, 0.019607843831181526, 0.011764707043766975, 0.007843137718737125])\n",
      "1.000000060070306\n"
     ]
    }
   ],
   "source": [
    "frequencies = thioredoxin.fourmer_freq()\n",
    "\n",
    "print(frequencies[:5])\n",
    "\n",
    "print(sum(frequencies))"
   ]
  },
  {
   "cell_type": "markdown",
   "metadata": {},
   "source": [
    "Let's have a look at how to print to files memory-effectively:\n",
    "\n",
    "## Stream printers\n",
    "\n",
    "A stream printer allows you to print an iterator to a file a number of objects at a time. This strikes a balance between limiting disk access, which is slow, and keeping the output in memory, which may cause a big memory footprint. There are two stream printer function. The first one, `streamprint`, is used with open files.\n",
    "\n",
    "In the code above, we got a few fasta entries. Let's print the rest of the entries to a file, 100 entries at a time:\n",
    "\n",
    "---"
   ]
  },
  {
   "cell_type": "code",
   "execution_count": 9,
   "metadata": {
    "collapsed": true
   },
   "outputs": [],
   "source": [
    "os.mkdir('outputs')\n",
    "\n",
    "with open('outputs/last_entries.fasta', 'w') as file:\n",
    "    misctools.streamprint(rest_of_entries, file, bufferlength=100)"
   ]
  },
  {
   "cell_type": "markdown",
   "metadata": {},
   "source": [
    "---\n",
    "We can combine a fasta reader with a stream printer to read a file, filter it, and write the filtered entries back using very little memory.\n",
    "\n",
    "Make sure the filtering is done with a generator expression, though, a list would keep all the entries in memory!\n",
    "\n",
    "---"
   ]
  },
  {
   "cell_type": "code",
   "execution_count": 10,
   "metadata": {
    "collapsed": true
   },
   "outputs": [],
   "source": [
    "with open('test/test.fasta') as fastafile, open('outputs/filtered.fasta', 'w') as outfile:\n",
    "    entries = misctools.iterfasta(fastafile)\n",
    "    filtered = (entry.translated() for entry in entries if len(entry) >= 150) # generator expression!\n",
    "    misctools.streamprint(filtered, outfile)"
   ]
  },
  {
   "cell_type": "markdown",
   "metadata": {},
   "source": [
    "---\n",
    "The other stream printer function is the fork printer. This allows you to print to several files memory effeciently. Please be aware though, that it keeps a buffer _per file_, so if you make the buffers hold hundreds of megabytes each, problems can arise.\n",
    "\n",
    "Say you want to iterate over a fasta file and split it into two files, one with sequences from _Bacteria_ and one with sequences from eukaryotes and archaea:\n",
    "___"
   ]
  },
  {
   "cell_type": "code",
   "execution_count": 11,
   "metadata": {
    "collapsed": true
   },
   "outputs": [],
   "source": [
    "with open('test/test.fasta') as fastafile:\n",
    "    entries = misctools.iterfasta(fastafile)\n",
    "    \n",
    "    # Yield (index, object), to print to the index'th filename given.\n",
    "    generator = ((0, entry) if 'Bacteria' in entry.header else (1, entry) for entry in entries)\n",
    "    misctools.forkprint(generator, 'outputs/bacteria.fasta', 'outputs/neomura.fasta')"
   ]
  },
  {
   "cell_type": "markdown",
   "metadata": {},
   "source": [
    "## Trying together iterfasta, streamprint and FastaEntry:\n",
    "\n",
    "Look through a fasta file for sequences from bacteria. All the ones with a name ending in an uneven number must be reverse complemented. Then translate to amino acids and truncate each of the sequences to before their first stop. Then write to a new file.\n",
    "\n",
    "No problem!\n",
    "\n",
    "---"
   ]
  },
  {
   "cell_type": "code",
   "execution_count": 15,
   "metadata": {
    "collapsed": true
   },
   "outputs": [],
   "source": [
    "# Create a generator of lines which does processing on the fly.\n",
    "# Barely any memory footprint!\n",
    "def process(entries):\n",
    "    for entry in entries:\n",
    "        # Skip non-bacteria\n",
    "        if 'Bacteria;' not in entry.header:\n",
    "            continue\n",
    "\n",
    "        # Reverse-complement the ones with uneven numbers in accession\n",
    "        accession = entry.header.split()[0]\n",
    "        if int(accession[-1]) % 2 == 1:\n",
    "            entry = entry.reversecomplemented()\n",
    "\n",
    "        entry = entry.translated(endatstop=True)\n",
    "\n",
    "        # A sequence with only a stop codon will return None\n",
    "        if entry is not None:\n",
    "            yield entry\n",
    "                \n",
    "# Stream it to the output file\n",
    "with open('test/test.fasta') as fastafile, open('outputs/fixed.fasta', 'w') as outfile:\n",
    "    generator = process(misctools.iterfasta(fastafile))\n",
    "    misctools.streamprint(generator, outfile)"
   ]
  },
  {
   "cell_type": "markdown",
   "metadata": {},
   "source": [
    "---\n",
    "## Opening files which may be gzipped\n",
    "\n",
    "The Opener class can be used instead of the `open` function if you don't know if the file will be gzipped or not.\n",
    "The class reads the first few bytes upon opening to check the signature. If it's that of a gzipped file, it returns a map object that yields unzipped, decoded lines. If not, it works as an ordinary `open`:\n",
    "\n",
    "---"
   ]
  },
  {
   "cell_type": "code",
   "execution_count": 11,
   "metadata": {},
   "outputs": [
    {
     "name": "stdout",
     "output_type": "stream",
     "text": [
      ">Q5ZMT0 Eukaryota;Metazoa;Chordata;Craniata;Vertebrata;Euteleostomi;Archelosauria;Archosauria;Dinosauria;Saurischia;Theropoda;Coelurosauria;Aves;Neognathae;Galloanserae;Galliformes;Phasianidae;Phasianinae;Gallus\n",
      "\n",
      "ATCGGTCCATCGTGATTATCGGCCGAGAGACAACCTGAAAACCGACCTCGTATAGCACTTGCCGGTAGATCACAATCCAGGGCCACTAACTAATGACTCTAAAACTTAGACAAGTGGTATCACATACATAATGGGTATTCTGGTTATAAATGGAGCTCCCGTGCATGCATGCGTCGTGTACAATTATAAGTGCGTCCCCCAAGAACCGGGGAGGACTCCTTGACATTATCAGTCCTCATTCTAGGCGATGATCCTGTTGGCCGC\n",
      "\n"
     ]
    }
   ],
   "source": [
    "with misctools.Reader('test/test.fasta') as lines:\n",
    "    print(next(lines))\n",
    "    print(next(lines))"
   ]
  },
  {
   "cell_type": "code",
   "execution_count": 12,
   "metadata": {},
   "outputs": [
    {
     "name": "stdout",
     "output_type": "stream",
     "text": [
      ">Q5ZMT0 Eukaryota;Metazoa;Chordata;Craniata;Vertebrata;Euteleostomi;Archelosauria;Archosauria;Dinosauria;Saurischia;Theropoda;Coelurosauria;Aves;Neognathae;Galloanserae;Galliformes;Phasianidae;Phasianinae;Gallus\n",
      "\n",
      "ATCGGTCCATCGTGATTATCGGCCGAGAGACAACCTGAAAACCGACCTCGTATAGCACTTGCCGGTAGATCACAATCCAGGGCCACTAACTAATGACTCTAAAACTTAGACAAGTGGTATCACATACATAATGGGTATTCTGGTTATAAATGGAGCTCCCGTGCATGCATGCGTCGTGTACAATTATAAGTGCGTCCCCCAAGAACCGGGGAGGACTCCTTGACATTATCAGTCCTCATTCTAGGCGATGATCCTGTTGGCCGC\n",
      "\n"
     ]
    }
   ],
   "source": [
    "with misctools.Reader('test/gzipped.gz') as lines:\n",
    "    print(next(lines))\n",
    "    print(next(lines))"
   ]
  },
  {
   "cell_type": "code",
   "execution_count": 13,
   "metadata": {},
   "outputs": [
    {
     "name": "stdout",
     "output_type": "stream",
     "text": [
      "b'>Q5ZMT0 Eukaryota;Metazoa;Chordata;Craniata;Vertebrata;Euteleostomi;Archelosauria;Archosauria;Dinosauria;Saurischia;Theropoda;Coelurosauria;Aves;Neognathae;Galloanserae;Galliformes;Phasianidae;Phasianinae;Gallus\\n'\n",
      "b'ATCGGTCCATCGTGATTATCGGCCGAGAGACAACCTGAAAACCGACCTCGTATAGCACTTGCCGGTAGATCACAATCCAGGGCCACTAACTAATGACTCTAAAACTTAGACAAGTGGTATCACATACATAATGGGTATTCTGGTTATAAATGGAGCTCCCGTGCATGCATGCGTCGTGTACAATTATAAGTGCGTCCCCCAAGAACCGGGGAGGACTCCTTGACATTATCAGTCCTCATTCTAGGCGATGATCCTGTTGGCCGC\\n'\n"
     ]
    }
   ],
   "source": [
    "with misctools.Reader('test/gzipped.gz', 'rb') as lines:\n",
    "    print(next(lines))\n",
    "    print(next(lines))"
   ]
  },
  {
   "cell_type": "markdown",
   "metadata": {},
   "source": [
    "## Rounding to significant figures\n",
    "\n",
    "The `significant` function simply returns string representing the input number, rounded to a given number of significant figures, 3 by default."
   ]
  },
  {
   "cell_type": "code",
   "execution_count": 14,
   "metadata": {},
   "outputs": [
    {
     "name": "stdout",
     "output_type": "stream",
     "text": [
      "Before: 32352 After: 32350\n",
      "Before: 11.543647 After: 11.54\n",
      "Before: 0.3333333333333333 After: 0.333\n",
      "Before: -11.222 After: -11.22\n",
      "Before: 5 After: 5.000\n"
     ]
    }
   ],
   "source": [
    "numbers = [32352, 11.543647, 1/3, -11.222, 5]\n",
    "\n",
    "for number in numbers:\n",
    "    print('Before:', number, 'After:', misctools.significant(number, 4))"
   ]
  },
  {
   "cell_type": "markdown",
   "metadata": {},
   "source": [
    "---\n",
    "## Assembly statistics\n",
    "   \n",
    "`assemblystats` takes three arguments. The first is the input filename. The next two\n",
    "arguments are related to the `sizes` attribute - that is, the assembly sizes at different contig size cutoffs.\n",
    "For example, to see assembly sizes from 0 to 20 kbp with a step of 2500, do:\n",
    "\n",
    "---"
   ]
  },
  {
   "cell_type": "code",
   "execution_count": 24,
   "metadata": {
    "scrolled": false
   },
   "outputs": [
    {
     "name": "stdout",
     "output_type": "stream",
     "text": [
      "Number of contigs: 975492\n",
      "Smallest contig: 250\n",
      "Largest contig: 112828\n",
      "N50: 1552\n",
      "Assembly size: 891411678\n",
      "Sizes:\n",
      "\t >= 0 bp: 891411678\n",
      "\t >= 2500 bp: 343976349\n",
      "\t >= 5000 bp: 213200795\n",
      "\t >= 7500 bp: 145077316\n",
      "\t >= 10000 bp: 104495922\n",
      "\t >= 12500 bp: 75206234\n",
      "\t >= 15000 bp: 55686814\n",
      "\t >= 17500 bp: 42019796\n",
      "\t >= 20000 bp: 32483707\n"
     ]
    }
   ],
   "source": [
    "step = 2500\n",
    "xmax = 20000\n",
    "assemblystats = numpytools.assemblystats('test/assemblyinput', xmax=xmax, step=step)\n",
    "\n",
    "print('Number of contigs:', assemblystats.ncontigs)\n",
    "print('Smallest contig:', assemblystats.smallest)\n",
    "print('Largest contig:', assemblystats.largest)\n",
    "print('N50:', assemblystats.n50)\n",
    "print('Assembly size:', assemblystats.size)\n",
    "print('Sizes:')\n",
    "for n, size in enumerate(assemblystats.sizes):\n",
    "    print('\\t >=', n*step, 'bp:', size)"
   ]
  },
  {
   "cell_type": "code",
   "execution_count": 15,
   "metadata": {},
   "outputs": [
    {
     "ename": "FileNotFoundError",
     "evalue": "[Errno 2] No such file or directory: 'outputs/'",
     "output_type": "error",
     "traceback": [
      "\u001b[0;31m---------------------------------------------------------------------------\u001b[0m",
      "\u001b[0;31mFileNotFoundError\u001b[0m                         Traceback (most recent call last)",
      "\u001b[0;32m<ipython-input-15-2c63e8804a19>\u001b[0m in \u001b[0;36m<module>\u001b[0;34m()\u001b[0m\n\u001b[1;32m      3\u001b[0m     \u001b[0;32mfor\u001b[0m \u001b[0mfile\u001b[0m \u001b[0;32min\u001b[0m \u001b[0mfiles\u001b[0m\u001b[0;34m:\u001b[0m\u001b[0;34m\u001b[0m\u001b[0m\n\u001b[1;32m      4\u001b[0m         \u001b[0mos\u001b[0m\u001b[0;34m.\u001b[0m\u001b[0mremove\u001b[0m\u001b[0;34m(\u001b[0m\u001b[0mos\u001b[0m\u001b[0;34m.\u001b[0m\u001b[0mpath\u001b[0m\u001b[0;34m.\u001b[0m\u001b[0mjoin\u001b[0m\u001b[0;34m(\u001b[0m\u001b[0mdirectory\u001b[0m\u001b[0;34m,\u001b[0m \u001b[0mfile\u001b[0m\u001b[0;34m)\u001b[0m\u001b[0;34m)\u001b[0m\u001b[0;34m\u001b[0m\u001b[0m\n\u001b[0;32m----> 5\u001b[0;31m \u001b[0mos\u001b[0m\u001b[0;34m.\u001b[0m\u001b[0mrmdir\u001b[0m\u001b[0;34m(\u001b[0m\u001b[0;34m'outputs/'\u001b[0m\u001b[0;34m)\u001b[0m\u001b[0;34m\u001b[0m\u001b[0m\n\u001b[0m",
      "\u001b[0;31mFileNotFoundError\u001b[0m: [Errno 2] No such file or directory: 'outputs/'"
     ]
    }
   ],
   "source": [
    "# Clean up\n",
    "for directory, __, files in os.walk('outputs/'):\n",
    "    for file in files:\n",
    "        os.remove(os.path.join(directory, file))\n",
    "os.rmdir('outputs/')"
   ]
  },
  {
   "cell_type": "code",
   "execution_count": null,
   "metadata": {},
   "outputs": [],
   "source": []
  }
 ],
 "metadata": {
  "kernelspec": {
   "display_name": "Python 3",
   "language": "python",
   "name": "python3"
  },
  "language_info": {
   "codemirror_mode": {
    "name": "ipython",
    "version": 3
   },
   "file_extension": ".py",
   "mimetype": "text/x-python",
   "name": "python",
   "nbconvert_exporter": "python",
   "pygments_lexer": "ipython3",
   "version": "3.6.5"
  }
 },
 "nbformat": 4,
 "nbformat_minor": 2
}
